{
 "cells": [
  {
   "cell_type": "markdown",
   "id": "5b5e7713-a499-422d-ad43-26ba1c451cab",
   "metadata": {},
   "source": [
    "# Método da Bissecção"
   ]
  },
  {
   "cell_type": "code",
   "execution_count": 6,
   "id": "f9f128bb-7940-42ec-911b-83119d8003fc",
   "metadata": {},
   "outputs": [],
   "source": [
    "# Aqui a função pode ser trocada pela desejada\n",
    "# É apenas um exemplo\n",
    "\n",
    "def funcao(x):\n",
    "    \n",
    "    \"\"\"Tendo a função estabelecida, calcula o valor correspondente a ela para o valor de x dado.\n",
    "    \n",
    "    Args:\n",
    "      x: valor de x\n",
    "    \n",
    "    Returns\n",
    "      f_x: valor de y da função para o x respectivo\n",
    "    \"\"\"\n",
    "    \n",
    "    f_x = x**(3) + x**(2) - 10*x + 8\n",
    "    \n",
    "    return f_x"
   ]
  },
  {
   "cell_type": "code",
   "execution_count": 9,
   "id": "08a3daf1-9781-4d2c-9e55-7c8482847f33",
   "metadata": {},
   "outputs": [],
   "source": [
    "def metodo_bisseccao(lim_inf, lim_sup):\n",
    "    \n",
    "    \"\"\"Encontra a raiz da função inicial, por meio do método da bissecção, utilizando os limites dados do \n",
    "    intervalo desejado.\n",
    "    \n",
    "    Args:\n",
    "      lim_inf: limite inferior\n",
    "      lim_sup: limite superior\n",
    "    \n",
    "    Returns:\n",
    "      m: raiz da função\n",
    "    \"\"\"\n",
    "    \n",
    "    epsilon = 8 # Número inicial para ε qualquer, apenas para vencer o critério de parada e iniciar o código\n",
    "                # para o intervalo desejado \n",
    "    \n",
    "    while epsilon > 0.0000000001: # Critério de parada\n",
    "    \n",
    "        f_inf = funcao(lim_inf) # f(x) para o limite inferior\n",
    "        print()\n",
    "        print(\"Limite inferior: \", lim_inf)\n",
    "        print(\"f(x): \", f_inf)\n",
    "        f_sup = funcao(lim_sup) # f(x) para o limite superior\n",
    "        print(\"Limite superior: \", lim_sup)\n",
    "        print(\"f(x): \", f_sup)\n",
    "        \n",
    "        m = (lim_sup + lim_inf)/2 # Calcula o valor médio entre os limites dados\n",
    "        \n",
    "        v_m = funcao(m) # f(x) para m\n",
    "        print(\"Valor médio: \", m)\n",
    "        print(\"f(x): \", v_m)\n",
    "        \n",
    "        # - Verifica sinal de f(x) para m, com o objetivo de adotá-lo ou como o novo limite superior ou inferior, \n",
    "        #   já que é preferencial escolher limites com sinais trocados de f(x);\n",
    "        # - Se for 0, encontrou-se a raiz;\n",
    "        # - Além de estabelecer o ε respectivo para os valores calculados.\n",
    "        if v_m == 0:\n",
    "            break\n",
    "            \n",
    "        elif v_m > 0:\n",
    "            lim_sup = m\n",
    "            epsilon = abs(v_m - f_inf) \n",
    "\n",
    "        elif v_m < 0:\n",
    "            lim_inf = m\n",
    "            epsilon = abs(f_sup - v_m) \n",
    "            \n",
    "        \n",
    "    return print(\"A raiz do polinômio é \", m)"
   ]
  },
  {
   "cell_type": "markdown",
   "id": "1616d455-cf1a-4871-818b-52ec4dfc988a",
   "metadata": {},
   "source": [
    "### Exemplo"
   ]
  },
  {
   "cell_type": "code",
   "execution_count": 13,
   "id": "23cf30af-6277-4a30-af9e-c70f232913c2",
   "metadata": {},
   "outputs": [
    {
     "name": "stdout",
     "output_type": "stream",
     "text": [
      "\n",
      "Limite inferior:  -8\n",
      "f(x):  -360\n",
      "Limite superior:  8\n",
      "f(x):  504\n",
      "Valor médio:  0.0\n",
      "f(x):  8.0\n",
      "\n",
      "Limite inferior:  -8\n",
      "f(x):  -360\n",
      "Limite superior:  0.0\n",
      "f(x):  8.0\n",
      "Valor médio:  -4.0\n",
      "f(x):  0.0\n",
      "A raiz do polinômio é  -4.0\n"
     ]
    }
   ],
   "source": [
    "metodo_bisseccao(-8, 8)"
   ]
  },
  {
   "cell_type": "code",
   "execution_count": null,
   "id": "eb3eb2a3-820b-447b-aee6-a23028a78bd4",
   "metadata": {},
   "outputs": [],
   "source": []
  }
 ],
 "metadata": {
  "kernelspec": {
   "display_name": "ilumpy",
   "language": "python",
   "name": "ilumpy"
  },
  "language_info": {
   "codemirror_mode": {
    "name": "ipython",
    "version": 3
   },
   "file_extension": ".py",
   "mimetype": "text/x-python",
   "name": "python",
   "nbconvert_exporter": "python",
   "pygments_lexer": "ipython3",
   "version": "3.9.7"
  }
 },
 "nbformat": 4,
 "nbformat_minor": 5
}
