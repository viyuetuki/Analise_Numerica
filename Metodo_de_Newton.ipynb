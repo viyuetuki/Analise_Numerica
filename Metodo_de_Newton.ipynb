{
 "cells": [
  {
   "cell_type": "markdown",
   "id": "4acecf86-be57-4e4b-8851-11dd35f0db95",
   "metadata": {},
   "source": [
    "# Método de Newton"
   ]
  },
  {
   "cell_type": "code",
   "execution_count": 4,
   "id": "a2c463a3-2552-41f2-a132-4aa36b40efbc",
   "metadata": {},
   "outputs": [],
   "source": [
    "# Esta função é apenas um exemplo, ela pode ser mudada conforme o caso\n",
    "\n",
    "def funcao(x):\n",
    "    \n",
    "    \"\"\"Tendo a função estabelecida, calcula o valor correspondente a ela para o valor de x dado.\n",
    "    \n",
    "    Args:\n",
    "      x: valor de x\n",
    "    \n",
    "    Returns:\n",
    "      f_x: valor de y da função para o x respectivo\n",
    "    \"\"\"\n",
    "    \n",
    "    f_x = x**(3) + x - 3\n",
    "    \n",
    "    return f_x"
   ]
  },
  {
   "cell_type": "code",
   "execution_count": 5,
   "id": "f024532e-7612-40d5-a109-ad7cc12404e9",
   "metadata": {},
   "outputs": [],
   "source": [
    "# Esta derivada é em relação a função definida acima, logo, também pode ser mudada\n",
    "\n",
    "def derivada_funcao(x):\n",
    "    \n",
    "    \"\"\"Tendo a derivada da função estabelecida, calcula o valor correspondente a ela para o valor de x dado.\n",
    "    \n",
    "    Args:\n",
    "      x: valor de x\n",
    "    \n",
    "    Returns:\n",
    "      d_f_x: valor da derivada da função para o x respectivo\n",
    "    \"\"\"\n",
    "    \n",
    "    d_f_x = 3 * x ** (2) + 1\n",
    "    \n",
    "    return d_f_x"
   ]
  },
  {
   "cell_type": "markdown",
   "id": "0e0978ca-43e5-41e0-98ab-034176495ea5",
   "metadata": {},
   "source": [
    "- Função Método de Newton (sem printar as informações obtidas no processo):"
   ]
  },
  {
   "cell_type": "code",
   "execution_count": 6,
   "id": "6c5e4558-5501-4078-a784-7af83c9e4539",
   "metadata": {},
   "outputs": [],
   "source": [
    "def metodo_newton(chute):\n",
    "    \n",
    "    \"\"\"Encontra a raiz da função inicial, por meio do método de newton, utilizando o chute inicial dado.\n",
    "    \n",
    "    Args:\n",
    "      chute: chute inicial\n",
    "    \n",
    "    Returns:\n",
    "      chute: após iteração, esse será o valor de x que corresponde à raíz da função\n",
    "    \"\"\"\n",
    "    \n",
    "    f_chute = funcao(chute)\n",
    "    \n",
    "    while abs(f_chute) > 0.0000000001: # critério de parada\n",
    "    \n",
    "        chute = chute - (funcao(chute)/derivada_funcao(chute))\n",
    "        f_chute = funcao(chute)\n",
    "        \n",
    "    return print(\"A raíz da função é \", chute)"
   ]
  },
  {
   "cell_type": "markdown",
   "id": "00293e89-c88d-46e2-b28e-b8b59d7d8586",
   "metadata": {},
   "source": [
    "- Função Método de Newton (printando as informações obtidas no processo):"
   ]
  },
  {
   "cell_type": "code",
   "execution_count": 7,
   "id": "a540a9fe-2d00-410d-8f04-f6ca13e87f47",
   "metadata": {},
   "outputs": [],
   "source": [
    "def metodo_newton_analise(chute):\n",
    "    \n",
    "    \"\"\"Encontra a raiz da função inicial, por meio do método de newton, utilizando o chute inicial dado e fornece \n",
    "    dados obtidos no processo do método para permitir análise.\n",
    "    \n",
    "    Args:\n",
    "      chute: chute inicial\n",
    "    \n",
    "    Returns\n",
    "      chute: após iteração, esse será o valor de x que corresponde à raíz da função\n",
    "    \"\"\"\n",
    "    print(\"Chute: \", chute)\n",
    "    f_chute = funcao(chute)\n",
    "    print(\"f(chute): \", f_chute)\n",
    "    \n",
    "    while abs(f_chute) > 0.0000000001: # critério de parada\n",
    "        \n",
    "        print()\n",
    "        print(\"Derivada da função: \", derivada_funcao(chute))\n",
    "        print(\"f(x)/df(x): \", funcao(chute)/derivada_funcao(chute))\n",
    "        chute = chute - (funcao(chute)/derivada_funcao(chute))\n",
    "        print(\"Chute: \", chute)\n",
    "        f_chute = funcao(chute)\n",
    "        print(\"f(chute): \", f_chute)\n",
    "        \n",
    "    return print(\"A raíz da função é \", chute)"
   ]
  },
  {
   "cell_type": "markdown",
   "id": "52d3d2cb-0597-44db-9fe3-f474689c262e",
   "metadata": {},
   "source": [
    "### Exemplo"
   ]
  },
  {
   "cell_type": "code",
   "execution_count": 8,
   "id": "5ba634ab-921f-490f-a5bf-5bd68212fee3",
   "metadata": {},
   "outputs": [
    {
     "name": "stdout",
     "output_type": "stream",
     "text": [
      "A raíz da função é  1.2134116627625238\n"
     ]
    }
   ],
   "source": [
    "metodo_newton(3)"
   ]
  },
  {
   "cell_type": "code",
   "execution_count": 9,
   "id": "beef6358-6e56-4c2b-9656-67a5bb020a6c",
   "metadata": {},
   "outputs": [
    {
     "name": "stdout",
     "output_type": "stream",
     "text": [
      "Chute:  3\n",
      "f(chute):  27\n",
      "\n",
      "Derivada da função:  28\n",
      "f(x)/df(x):  0.9642857142857143\n",
      "Chute:  2.0357142857142856\n",
      "f(chute):  7.471984329446062\n",
      "\n",
      "Derivada da função:  13.432397959183671\n",
      "f(x)/df(x):  0.5562658545518673\n",
      "Chute:  1.4794484311624183\n",
      "f(chute):  1.7176173126222292\n",
      "\n",
      "Derivada da função:  7.566302981406823\n",
      "f(x)/df(x):  0.22700879370586188\n",
      "Chute:  1.2524396374565565\n",
      "f(chute):  0.21702277192042274\n",
      "\n",
      "Derivada da função:  5.705815136416932\n",
      "f(x)/df(x):  0.038035366854998746\n",
      "Chute:  1.2144042706015579\n",
      "f(chute):  0.00538064708335817\n",
      "\n",
      "Derivada da função:  5.424333197365906\n",
      "f(x)/df(x):  0.0009919462701832272\n",
      "Chute:  1.2134123243313746\n",
      "f(chute):  3.5837901832813657e-06\n",
      "\n",
      "Derivada da função:  5.417108406517807\n",
      "f(x)/df(x):  6.615688508225879e-07\n",
      "Chute:  1.2134116627625238\n",
      "f(chute):  1.5933920849420247e-12\n",
      "A raíz da função é  1.2134116627625238\n"
     ]
    }
   ],
   "source": [
    "metodo_newton_analise(3)"
   ]
  },
  {
   "cell_type": "code",
   "execution_count": null,
   "id": "afe34fa9-0b9e-4ece-bbd0-c4138e5d7073",
   "metadata": {},
   "outputs": [],
   "source": []
  }
 ],
 "metadata": {
  "kernelspec": {
   "display_name": "ilumpy",
   "language": "python",
   "name": "ilumpy"
  },
  "language_info": {
   "codemirror_mode": {
    "name": "ipython",
    "version": 3
   },
   "file_extension": ".py",
   "mimetype": "text/x-python",
   "name": "python",
   "nbconvert_exporter": "python",
   "pygments_lexer": "ipython3",
   "version": "3.9.7"
  }
 },
 "nbformat": 4,
 "nbformat_minor": 5
}
