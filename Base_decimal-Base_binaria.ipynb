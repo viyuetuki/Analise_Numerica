{
 "cells": [
  {
   "cell_type": "markdown",
   "id": "25f6f0b8-2a81-4d0a-b0c9-fa4b687f5a91",
   "metadata": {},
   "source": [
    "# Base decimal para base binária"
   ]
  },
  {
   "cell_type": "markdown",
   "id": "9bebb283-7a7c-4c87-b89a-59cd5cefc2c5",
   "metadata": {},
   "source": [
    "Código para conversão de um número N na base decimal para a binária"
   ]
  },
  {
   "cell_type": "code",
   "execution_count": 1,
   "id": "ef8573ee-33d6-43c1-95a4-b88555788d8a",
   "metadata": {},
   "outputs": [],
   "source": [
    "def bdecimal_bbinaria(N):\n",
    "    \"\"\"Conversão de um número N na base decimal para a binária.\n",
    "    \n",
    "    Args:\n",
    "      N: número na base decimal\n",
    "      \n",
    "    Return:\n",
    "      bn: número na base binária\n",
    "    \"\"\"\n",
    "    \n",
    "    n = []\n",
    "    b = N\n",
    "    \n",
    "    while b != 0:\n",
    "        \n",
    "        if b%2 == 0:\n",
    "            a = 0\n",
    "\n",
    "        else:\n",
    "            a = 1\n",
    "        \n",
    "        a_string = str(a)\n",
    "        n.insert(0, a_string)\n",
    "          \n",
    "        b = (b - a)/2\n",
    "    \n",
    "    print(\"Número na base decimal:\")\n",
    "    print(N)\n",
    "    print(\"Número na base binária:\")\n",
    "    bn = print(''.join(n))\n",
    "    \n",
    "    return bn"
   ]
  },
  {
   "cell_type": "markdown",
   "id": "6461486e-60f1-463a-b328-66108fb4a74a",
   "metadata": {},
   "source": [
    "### Exemplos"
   ]
  },
  {
   "cell_type": "code",
   "execution_count": 2,
   "id": "1e9c8c17-0e7e-4b35-b180-b97a004bfcf3",
   "metadata": {},
   "outputs": [
    {
     "name": "stdout",
     "output_type": "stream",
     "text": [
      "Número na base decimal:\n",
      "2\n",
      "Número na base binária:\n",
      "10\n"
     ]
    }
   ],
   "source": [
    "bdecimal_bbinaria(2)"
   ]
  },
  {
   "cell_type": "code",
   "execution_count": 3,
   "id": "df7613d2-6cef-47f7-b4b5-ce1dd5e2ad55",
   "metadata": {},
   "outputs": [
    {
     "name": "stdout",
     "output_type": "stream",
     "text": [
      "Número na base decimal:\n",
      "13\n",
      "Número na base binária:\n",
      "1101\n"
     ]
    }
   ],
   "source": [
    "bdecimal_bbinaria(13)"
   ]
  },
  {
   "cell_type": "code",
   "execution_count": 4,
   "id": "a1d66d5b-057b-4cac-8766-8dfb59ea4a1b",
   "metadata": {},
   "outputs": [
    {
     "name": "stdout",
     "output_type": "stream",
     "text": [
      "Número na base decimal:\n",
      "35\n",
      "Número na base binária:\n",
      "100011\n"
     ]
    }
   ],
   "source": [
    "bdecimal_bbinaria(35)"
   ]
  },
  {
   "cell_type": "code",
   "execution_count": 5,
   "id": "ad9f6261-2e26-454c-a5fd-5c99280f6691",
   "metadata": {},
   "outputs": [
    {
     "name": "stdout",
     "output_type": "stream",
     "text": [
      "Número na base decimal:\n",
      "8\n",
      "Número na base binária:\n",
      "1000\n"
     ]
    }
   ],
   "source": [
    "bdecimal_bbinaria(8)"
   ]
  }
 ],
 "metadata": {
  "kernelspec": {
   "display_name": "ilumpy",
   "language": "python",
   "name": "ilumpy"
  },
  "language_info": {
   "codemirror_mode": {
    "name": "ipython",
    "version": 3
   },
   "file_extension": ".py",
   "mimetype": "text/x-python",
   "name": "python",
   "nbconvert_exporter": "python",
   "pygments_lexer": "ipython3",
   "version": "3.9.7"
  }
 },
 "nbformat": 4,
 "nbformat_minor": 5
}
